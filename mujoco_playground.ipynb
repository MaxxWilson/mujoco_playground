{
  "nbformat": 4,
  "nbformat_minor": 0,
  "metadata": {
    "colab": {
      "provenance": [],
      "authorship_tag": "ABX9TyPJcgNLU8oi4b3JucoT9hrr",
      "include_colab_link": true
    },
    "kernelspec": {
      "name": "python3",
      "display_name": "Python 3"
    },
    "language_info": {
      "name": "python"
    }
  },
  "cells": [
    {
      "cell_type": "markdown",
      "metadata": {
        "id": "view-in-github",
        "colab_type": "text"
      },
      "source": [
        "<a href=\"https://colab.research.google.com/github/MaxxWilson/mujoco_playground/blob/main/mujoco_playground.ipynb\" target=\"_parent\"><img src=\"https://colab.research.google.com/assets/colab-badge.svg\" alt=\"Open In Colab\"/></a>"
      ]
    },
    {
      "source": [
        "# %%\n",
        "!git clone https://github.com/MaxxWilson/mujoco_playground.git\n",
        "\n",
        "# %%\n",
        "!pip install uv\n"
      ],
      "cell_type": "code",
      "metadata": {
        "colab": {
          "base_uri": "https://localhost:8080/"
        },
        "id": "L8YZVDYg2ljS",
        "outputId": "4f4356cc-23e2-43e9-877f-30750a6b839d"
      },
      "execution_count": null,
      "outputs": [
        {
          "output_type": "stream",
          "name": "stdout",
          "text": [
            "fatal: destination path 'mujoco_playground' already exists and is not an empty directory.\n",
            "Requirement already satisfied: uv in /usr/local/lib/python3.11/dist-packages (0.7.9)\n"
          ]
        }
      ]
    },
    {
      "cell_type": "code",
      "source": [
        "\n"
      ],
      "metadata": {
        "colab": {
          "base_uri": "https://localhost:8080/"
        },
        "id": "CUo3rkig0Ue6",
        "outputId": "bcabd03f-0b51-4f6f-b1d2-cc790ae19e3a"
      },
      "execution_count": null,
      "outputs": [
        {
          "output_type": "stream",
          "name": "stdout",
          "text": [
            "\u001b[2mUsing Python 3.11.12 environment at: /usr\u001b[0m\n",
            "\u001b[37m⠋\u001b[0m \u001b[2mResolving dependencies...                                                     \u001b[0m\r\u001b[2K\u001b[37m⠙\u001b[0m \u001b[2mResolving dependencies...                                                     \u001b[0m\r\u001b[2K\u001b[37m⠋\u001b[0m \u001b[2mResolving dependencies...                                                     \u001b[0m\r\u001b[2K\u001b[37m⠙\u001b[0m \u001b[2mResolving dependencies...                                                     \u001b[0m\r\u001b[2K\u001b[37m⠙\u001b[0m \u001b[2mjax==0.6.1                                                                    \u001b[0m\r\u001b[2K\u001b[37m⠙\u001b[0m \u001b[2mjax==0.6.1                                                                    \u001b[0m\r\u001b[2K\u001b[37m⠙\u001b[0m \u001b[2mjaxlib==0.6.1                                                                 \u001b[0m\r\u001b[2K\u001b[37m⠙\u001b[0m \u001b[2mml-dtypes==0.5.1                                                              \u001b[0m\r\u001b[2K\u001b[37m⠙\u001b[0m \u001b[2mnumpy==2.2.6                                                                  \u001b[0m\r\u001b[2K\u001b[37m⠙\u001b[0m \u001b[2mnumpy==2.2.6                                                                  \u001b[0m\r\u001b[2K\u001b[37m⠙\u001b[0m \u001b[2mnumpy==2.2.6                                                                  \u001b[0m\r\u001b[2K\u001b[37m⠙\u001b[0m \u001b[2mopt-einsum==3.4.0                                                             \u001b[0m\r\u001b[2K\u001b[37m⠙\u001b[0m \u001b[2mscipy==1.15.3                                                                 \u001b[0m\r\u001b[2K\u001b[37m⠙\u001b[0m \u001b[2mjax-cuda12-plugin==0.6.1                                                      \u001b[0m\r\u001b[2K\u001b[37m⠙\u001b[0m \u001b[2mjax-cuda12-plugin==0.6.1                                                      \u001b[0m\r\u001b[2K\u001b[37m⠙\u001b[0m \u001b[2mjax-cuda12-pjrt==0.6.1                                                        \u001b[0m\r\u001b[2K\u001b[37m⠙\u001b[0m \u001b[2mnvidia-cublas-cu12==12.8.4.1                                                  \u001b[0m\r\u001b[2K\u001b[37m⠙\u001b[0m \u001b[2mnvidia-cuda-cupti-cu12==12.9.19                                               \u001b[0m\r\u001b[2K\u001b[37m⠙\u001b[0m \u001b[2mnvidia-cuda-nvcc-cu12==12.9.41                                                \u001b[0m\r\u001b[2K\u001b[37m⠙\u001b[0m \u001b[2mnvidia-cuda-runtime-cu12==12.9.37                                             \u001b[0m\r\u001b[2K\u001b[37m⠙\u001b[0m \u001b[2mnvidia-cudnn-cu12==9.10.1.4                                                   \u001b[0m\r\u001b[2K\u001b[37m⠙\u001b[0m \u001b[2mnvidia-cufft-cu12==11.4.0.6                                                   \u001b[0m\r\u001b[2K\u001b[37m⠙\u001b[0m \u001b[2mnvidia-cusolver-cu12==11.7.4.40                                               \u001b[0m\r\u001b[2K\u001b[37m⠙\u001b[0m \u001b[2mnvidia-cusparse-cu12==12.5.9.5                                                \u001b[0m\r\u001b[2K\u001b[2mResolved \u001b[1m19 packages\u001b[0m \u001b[2min 123ms\u001b[0m\u001b[0m\n",
            "\u001b[2mAudited \u001b[1m19 packages\u001b[0m \u001b[2min 0.17ms\u001b[0m\u001b[0m\n",
            "Traceback (most recent call last):\n",
            "  File \"<string>\", line 1, in <module>\n",
            "ModuleNotFoundError: No module named 'jax'\n"
          ]
        }
      ]
    }
  ]
}